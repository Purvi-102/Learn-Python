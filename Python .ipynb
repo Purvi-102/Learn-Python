{
 "cells": [
  {
   "cell_type": "markdown",
   "metadata": {},
   "source": [
    "# **Hey Geeks !!** \n",
    "## Wanna learn python ? \n",
    "\n",
    "### Come lets go on a journey with codebugged\n"
   ]
  },
  {
   "cell_type": "markdown",
   "metadata": {},
   "source": [
    "\n",
    "\n",
    "### What is Python ?\n",
    "##### Python is an interpreted, high-level, general-purpose programming language. Created by Guido van Rossum and first released in 1991, Python's design philosophy emphasizes code readability through use of significant whitespace."
   ]
  },
  {
   "cell_type": "code",
   "execution_count": 1,
   "metadata": {},
   "outputs": [
    {
     "name": "stdout",
     "output_type": "stream",
     "text": [
      "Machine Learning Project setup completed.\n"
     ]
    }
   ],
   "source": [
    "print(\"Machine Learning Project setup completed.\")\n"
   ]
  },
  {
   "cell_type": "code",
   "execution_count": 2,
   "metadata": {},
   "outputs": [
    {
     "name": "stdout",
     "output_type": "stream",
     "text": [
      "enter first number5\n",
      "enter second number10\n",
      "addition of two number =  15\n",
      "subtraction of two number =  -5\n",
      "multiplication of two number =  50\n",
      "division of two number =  0.5\n"
     ]
    }
   ],
   "source": [
    "a = int(input(\"enter first number\"))\n",
    "b = int(input(\"enter second number\"))\n",
    "print(\"addition of two number = \",(a+b))\n",
    "print(\"subtraction of two number = \",(a-b))\n",
    "print(\"multiplication of two number = \",(a*b))\n",
    "print(\"division of two number = \",(a/b))"
   ]
  },
  {
   "cell_type": "code",
   "execution_count": 3,
   "metadata": {},
   "outputs": [
    {
     "name": "stdout",
     "output_type": "stream",
     "text": [
      "7.1\n"
     ]
    }
   ],
   "source": [
    "import math\n",
    "a = -7.1\n",
    "print (math.fabs(a))\n",
    "\n"
   ]
  },
  {
   "cell_type": "code",
   "execution_count": 4,
   "metadata": {},
   "outputs": [
    {
     "name": "stdout",
     "output_type": "stream",
     "text": [
      "sys.version= 3.6.5 |Anaconda, Inc.| (default, Mar 29 2018, 13:32:41) [MSC v.1900 64 bit (AMD64)]\n",
      "sys.version_info sys.version_info(major=3, minor=6, micro=5, releaselevel='final', serial=0)\n",
      "sys.platform= win32\n",
      "sys.path= ['', 'C:\\\\Users\\\\SARTHAK\\\\Anaconda3\\\\python36.zip', 'C:\\\\Users\\\\SARTHAK\\\\Anaconda3\\\\DLLs', 'C:\\\\Users\\\\SARTHAK\\\\Anaconda3\\\\lib', 'C:\\\\Users\\\\SARTHAK\\\\Anaconda3', 'C:\\\\Users\\\\SARTHAK\\\\Anaconda3\\\\lib\\\\site-packages', 'C:\\\\Users\\\\SARTHAK\\\\Anaconda3\\\\lib\\\\site-packages\\\\win32', 'C:\\\\Users\\\\SARTHAK\\\\Anaconda3\\\\lib\\\\site-packages\\\\win32\\\\lib', 'C:\\\\Users\\\\SARTHAK\\\\Anaconda3\\\\lib\\\\site-packages\\\\Pythonwin', 'C:\\\\Users\\\\SARTHAK\\\\Anaconda3\\\\lib\\\\site-packages\\\\IPython\\\\extensions', 'C:\\\\Users\\\\SARTHAK\\\\.ipython']\n"
     ]
    }
   ],
   "source": [
    "import sys\n",
    "print(\"sys.version=\",sys.version)\n",
    "print(\"sys.version_info\",sys.version_info)\n",
    "print(\"sys.platform=\",sys.platform)\n",
    "print(\"sys.path=\",sys.path)\n"
   ]
  },
  {
   "cell_type": "code",
   "execution_count": 5,
   "metadata": {},
   "outputs": [
    {
     "name": "stdout",
     "output_type": "stream",
     "text": [
      "random.randint(1,100)= 67\n",
      "random.randint(1,100)= 98\n",
      "randrange(100,1000,5): 475\n"
     ]
    }
   ],
   "source": [
    "import random\n",
    "print(\"random.randint(1,100)=\",random.randint(1,100))\n",
    "print(\"random.randint(1,100)=\",random.randint(1,100))\n",
    "print(\"randrange(100,1000,5):\",random.randrange(100,1000,5))\n"
   ]
  },
  {
   "cell_type": "code",
   "execution_count": 6,
   "metadata": {},
   "outputs": [
    {
     "name": "stdout",
     "output_type": "stream",
     "text": [
      "now= 2019-10-23 21:55:09.354324\n",
      "2019 10 23 21 55 9 354324\n",
      "October\n",
      "Oct\n"
     ]
    }
   ],
   "source": [
    "import datetime\n",
    "now = datetime.datetime.now()\n",
    "print(\"now=\",now)\n",
    "print(now.year,now.month,now.day, \\\n",
    "        now.hour, now.minute, now.second, now.microsecond )\n",
    "print(now.strftime(\"%B\"))\n",
    "print(now.strftime(\"%b\"))"
   ]
  },
  {
   "cell_type": "code",
   "execution_count": 8,
   "metadata": {},
   "outputs": [
    {
     "name": "stdout",
     "output_type": "stream",
     "text": [
      "what is your namecodebugged\n",
      "<class 'str'> codebugged\n",
      "what is your age2\n",
      "<class 'int'> 2\n",
      "k\n",
      "value of S1 = k\n"
     ]
    }
   ],
   "source": [
    "name = input(\"what is your name\")\n",
    "print(type(name),name)\n",
    "\n",
    "age = int(input(\"what is your age\"))\n",
    "print(type(age),age)\n",
    "\n",
    "s1 = input()\n",
    "print(\"value of S1 =\",s1)"
   ]
  },
  {
   "cell_type": "code",
   "execution_count": 9,
   "metadata": {},
   "outputs": [
    {
     "name": "stdout",
     "output_type": "stream",
     "text": [
      "Enter any number:5\n",
      "its a positive number\n",
      "meerut\n",
      "iitk\n"
     ]
    }
   ],
   "source": [
    "num = int(input(\"Enter any number:\"))\n",
    "if(num<0):\n",
    "    print(\"its a negative number\")\n",
    "    print(\"noida\")\n",
    "else:\n",
    "    print(\"its a positive number\")\n",
    "    print(\"meerut\")\n",
    "    print(\"iitk\")"
   ]
  },
  {
   "cell_type": "code",
   "execution_count": 10,
   "metadata": {},
   "outputs": [
    {
     "name": "stdout",
     "output_type": "stream",
     "text": [
      "Please enter age:5\n",
      "you are a kid\n"
     ]
    }
   ],
   "source": [
    "x = int(input(\"Please enter age:\"))\n",
    "\n",
    "if x<12:\n",
    "    print('you are a kid')\n",
    "elif x<18:\n",
    "    print('you are young')\n",
    "else:\n",
    "    print('you have grown up')"
   ]
  },
  {
   "cell_type": "code",
   "execution_count": 11,
   "metadata": {},
   "outputs": [
    {
     "name": "stdout",
     "output_type": "stream",
     "text": [
      "count= 1 count= 2 count= 3 count= 4 count= 5 \n",
      "count= 6\n"
     ]
    }
   ],
   "source": [
    "c = 1\n",
    "while (c<=5):\n",
    "    print(\"count=\",c,end=' ')\n",
    "    c += 1\n",
    "print(\"\\ncount=\",c)"
   ]
  },
  {
   "cell_type": "code",
   "execution_count": 12,
   "metadata": {},
   "outputs": [
    {
     "name": "stdout",
     "output_type": "stream",
     "text": [
      "count= 1\n",
      "count= 2\n",
      "count= 3\n"
     ]
    }
   ],
   "source": [
    "c=1\n",
    "while(True):\n",
    "    print(\"count=\",c)\n",
    "    c+=1\n",
    "    if c==4:\n",
    "        break"
   ]
  },
  {
   "cell_type": "code",
   "execution_count": 13,
   "metadata": {},
   "outputs": [
    {
     "name": "stdout",
     "output_type": "stream",
     "text": [
      "Hello =  C\n",
      "Hello =  O\n",
      "Hello =  D\n",
      "Hello =  E\n",
      "Hello =  B\n",
      "Hello =  U\n",
      "Hello =  G\n",
      "Hello =  G\n",
      "Hello =  E\n",
      "Hello =  D\n"
     ]
    }
   ],
   "source": [
    "for ch in \"CODEBUGGED\":\n",
    "    print('Hello = ',ch)"
   ]
  },
  {
   "cell_type": "code",
   "execution_count": 14,
   "metadata": {},
   "outputs": [
    {
     "name": "stdout",
     "output_type": "stream",
     "text": [
      "range(0, 5)\n"
     ]
    }
   ],
   "source": [
    "print( range(5) )"
   ]
  },
  {
   "cell_type": "code",
   "execution_count": 15,
   "metadata": {},
   "outputs": [
    {
     "name": "stdout",
     "output_type": "stream",
     "text": [
      "0 = mary\n",
      "1 = had\n",
      "2 = a\n",
      "3 = little\n",
      "4 = lamb\n"
     ]
    }
   ],
   "source": [
    "arr=[\"mary\",'had','a','little','lamb']\n",
    "for i in range(len(arr)):\n",
    "    print(i,\"=\",arr[i])"
   ]
  },
  {
   "cell_type": "code",
   "execution_count": 16,
   "metadata": {},
   "outputs": [
    {
     "name": "stdout",
     "output_type": "stream",
     "text": [
      "<enumerate object at 0x00000144ED403FC0>\n",
      "0 = mary\n",
      "1 = had\n",
      "2 = a\n",
      "3 = little\n",
      "4 = lamb\n"
     ]
    }
   ],
   "source": [
    "arr=[\"mary\",'had','a','little','lamb']\n",
    "print(enumerate(arr))\n",
    "for i,j in enumerate(arr):\n",
    "    print(i,\"=\",j)"
   ]
  },
  {
   "cell_type": "code",
   "execution_count": 17,
   "metadata": {},
   "outputs": [
    {
     "name": "stdout",
     "output_type": "stream",
     "text": [
      "(0, 'mary')\n",
      "(1, 'had')\n",
      "(2, 'a')\n",
      "(3, 'little')\n",
      "(4, 'lamb')\n",
      "0\n",
      "1\n",
      "2\n",
      "3\n",
      "4\n"
     ]
    }
   ],
   "source": [
    "arr=[\"mary\",'had','a','little','lamb']\n",
    "for i in enumerate(arr):\n",
    "    print(i)\n",
    "for i,j in enumerate(arr):\n",
    "    print(i)"
   ]
  },
  {
   "cell_type": "code",
   "execution_count": 18,
   "metadata": {},
   "outputs": [
    {
     "name": "stdout",
     "output_type": "stream",
     "text": [
      "1\n",
      "2\n",
      "3\n",
      "4\n",
      "5\n",
      "6\n",
      "7\n",
      "8\n",
      "9\n",
      "10\n",
      "This is else block of for loop\n",
      "1\n",
      "2\n",
      "3\n",
      "4\n",
      "5\n"
     ]
    }
   ],
   "source": [
    "for num in range(1,11):\n",
    "    print(num)\n",
    "    if(num == 50):\n",
    "        break\n",
    "else:\n",
    "    print('This is else block of for loop')\n",
    "\n",
    "for num in range(1,11):\n",
    "    print(num)\n",
    "    if(num == 5):\n",
    "        break\n",
    "else:\n",
    "    print('This is else block of for loop')"
   ]
  },
  {
   "cell_type": "code",
   "execution_count": 19,
   "metadata": {},
   "outputs": [
    {
     "name": "stdout",
     "output_type": "stream",
     "text": [
      "Enter alphabet to search:i\n",
      "i not found is the given word\n"
     ]
    }
   ],
   "source": [
    "alpha = input(\"Enter alphabet to search:\")\n",
    "for ch in \"INDIA\":\n",
    "    if(ch == alpha):\n",
    "        print(alpha,\"found is the given word\")\n",
    "        break\n",
    "else:\n",
    "    print(alpha,\"not found is the given word\")\n"
   ]
  },
  {
   "cell_type": "code",
   "execution_count": 20,
   "metadata": {},
   "outputs": [
    {
     "name": "stdout",
     "output_type": "stream",
     "text": [
      "Enter any number65\n",
      "Number is not prime\n"
     ]
    }
   ],
   "source": [
    "n = int(input(\"Enter any number\"))\n",
    "c=0\n",
    "for i in range (2,n):\n",
    "    if (n % i == 0):\n",
    "        print(\"Number is not prime\")\n",
    "        break\n",
    "else:\n",
    "    print(\"prime\")"
   ]
  },
  {
   "cell_type": "code",
   "execution_count": 21,
   "metadata": {},
   "outputs": [
    {
     "name": "stdout",
     "output_type": "stream",
     "text": [
      "hgy\n",
      "ygh\n"
     ]
    }
   ],
   "source": [
    "a = input()\n",
    "print(a[::-1])"
   ]
  },
  {
   "cell_type": "code",
   "execution_count": 22,
   "metadata": {},
   "outputs": [
    {
     "name": "stdout",
     "output_type": "stream",
     "text": [
      "naman\n",
      "palindrome\n"
     ]
    }
   ],
   "source": [
    "a = input()\n",
    "if (a== a[::-1]):\n",
    "    print(\"palindrome\")\n",
    "else:\n",
    "    print(\"not palindrome\")"
   ]
  },
  {
   "cell_type": "code",
   "execution_count": 23,
   "metadata": {},
   "outputs": [
    {
     "name": "stdout",
     "output_type": "stream",
     "text": [
      "['Noida', 'Delhi', 'Lucknow', 'UK', 'Kanpur']\n",
      "['Noida', 'Delhi', 'Lucknow', 'UK', 'Kanpur', 'Patna']\n",
      "['Noida', 'Lucknow', 'UK', 'Kanpur', 'Patna']\n"
     ]
    }
   ],
   "source": [
    "a = [\"Noida\",\"Delhi\",\"Lucknow\",\"Goa\",\"Kanpur\"]\n",
    "a[3] = 'UK'\n",
    "print (a)\n",
    "\n",
    "a.append(\"Patna\")\n",
    "print(a)\n",
    "del a[1]\n",
    "print(a)"
   ]
  },
  {
   "cell_type": "code",
   "execution_count": 24,
   "metadata": {},
   "outputs": [
    {
     "name": "stdout",
     "output_type": "stream",
     "text": [
      "<class 'tuple'> ('python', 'java', 'jzee', 'android', 'hadoop')\n",
      "tu.index('android')= 3\n",
      "'hadoop'in tu= True\n",
      "'crysta'in tu= False\n"
     ]
    }
   ],
   "source": [
    "tu = (\"python\",'java','jzee','android','hadoop')\n",
    "print(type(tu),tu)\n",
    "#tu[3] = \"rdbms\" #this line is error\n",
    "print(\"tu.index('android')=\",tu.index('android'))\n",
    "print(\"'hadoop'in tu=\", 'hadoop'in tu)\n",
    "print(\"'crysta'in tu=\", 'crysta'in tu)"
   ]
  },
  {
   "cell_type": "code",
   "execution_count": 25,
   "metadata": {},
   "outputs": [
    {
     "name": "stdout",
     "output_type": "stream",
     "text": [
      "Items in tuple tu= 5\n",
      "min(tu)= android\n",
      "max(tu)= python\n"
     ]
    }
   ],
   "source": [
    "tu = (\"python\",'java','jzee','android','hadoop')\n",
    "print(\"Items in tuple tu=\", len(tu))\n",
    "print(\"min(tu)=\",min(tu))\n",
    "print(\"max(tu)=\",max(tu))"
   ]
  },
  {
   "cell_type": "code",
   "execution_count": 26,
   "metadata": {},
   "outputs": [
    {
     "name": "stdout",
     "output_type": "stream",
     "text": [
      "enumerate(tu)= <enumerate object at 0x00000144ED404168>\n",
      "enumerate(tu)= ((0, 'python'), (1, 'java'), (2, 'jzee'), (3, 'android'), (4, 'hadoop'))\n",
      "enumerate(tu)= [(0, 'python'), (1, 'java'), (2, 'jzee'), (3, 'android'), (4, 'hadoop')]\n",
      "0 = python\n",
      "1 = java\n",
      "2 = jzee\n",
      "3 = android\n",
      "4 = hadoop\n",
      "(0, 'python')\n",
      "(1, 'java')\n",
      "(2, 'jzee')\n",
      "(3, 'android')\n",
      "(4, 'hadoop')\n"
     ]
    }
   ],
   "source": [
    "tu = (\"python\",'java','jzee','android','hadoop')\n",
    "print(\"enumerate(tu)=\",enumerate(tu))\n",
    "print(\"enumerate(tu)=\",tuple(enumerate(tu)))\n",
    "print(\"enumerate(tu)=\",list(enumerate(tu)))\n",
    "for k, v in enumerate(tu):\n",
    "    print(k,\"=\",v)\n",
    "for r in enumerate(tu):\n",
    "    print(r)"
   ]
  },
  {
   "cell_type": "code",
   "execution_count": 27,
   "metadata": {},
   "outputs": [
    {
     "name": "stdout",
     "output_type": "stream",
     "text": [
      "Enter first number:6\n",
      "Enter second number:12\n",
      "Addition result= 18\n",
      "====================\n",
      "Enter first number:5\n",
      "Enter second number:65\n",
      "Addition result= 70\n"
     ]
    }
   ],
   "source": [
    "def group1():\n",
    "    a = int(input(\"Enter first number:\"))\n",
    "    b = int(input(\"Enter second number:\"))\n",
    "    c=a+b\n",
    "    print(\"Addition result=\",c)\n",
    "    return\n",
    "\n",
    "group1()\n",
    "print(\"=\"*20)\n",
    "group1()"
   ]
  },
  {
   "cell_type": "code",
   "execution_count": 28,
   "metadata": {},
   "outputs": [
    {
     "name": "stdout",
     "output_type": "stream",
     "text": [
      "Enter first number:5\n",
      "Enter second number:36\n",
      "Addition result= 41\n"
     ]
    }
   ],
   "source": [
    "def group2(x,y):\n",
    "    c=a+b\n",
    "    print(\"Addition result=\",c)\n",
    "    return\n",
    "\n",
    "a = int(input(\"Enter first number:\"))\n",
    "b = int(input(\"Enter second number:\"))\n",
    "group2(a,b)"
   ]
  },
  {
   "cell_type": "code",
   "execution_count": 29,
   "metadata": {},
   "outputs": [
    {
     "name": "stdout",
     "output_type": "stream",
     "text": [
      "Enter first number:6\n",
      "Enter second number:5\n",
      "Addition result= 11\n"
     ]
    }
   ],
   "source": [
    "def group3(x,y):\n",
    "    c=x+y\n",
    "    return c\n",
    "\n",
    "a = int(input(\"Enter first number:\"))\n",
    "b = int(input(\"Enter second number:\"))\n",
    "print(\"Addition result=\",group3(a,b))"
   ]
  },
  {
   "cell_type": "code",
   "execution_count": 30,
   "metadata": {},
   "outputs": [
    {
     "name": "stdout",
     "output_type": "stream",
     "text": [
      "\n",
      "empName= Chintu phone= 1234567890 city= Lucknow company= XYZ\n",
      "\n",
      "empName= Chintu phone= 999888 city= Lucknow company= XYZ\n",
      "\n",
      "empName= Pappu phone= 877666 city= Lucknow company= XYZ\n",
      "\n",
      "empName= Pappu phone= 877666 city= Lucknow company= XYZ\n",
      "\n",
      "empName= Pappu phone= 1234567890 city= Kanpur company= XYZ\n",
      "\n",
      "empName= Alisha phone= 9898 city= Delhi company= XYZ\n"
     ]
    }
   ],
   "source": [
    "def show(empName, phone=\"1234567890\", city=\"Lucknow\", company=\"XYZ\"):\n",
    "    print(\"\\nempName=\",empName,\n",
    "    \"phone=\",phone, \"city=\",city,\"company=\",company)\n",
    "\n",
    "show(\"Chintu\")\n",
    "\n",
    "show(\"Chintu\",\"999888\")\n",
    "\n",
    "show(empName=\"Pappu\",phone=\"877666\")\n",
    "show(phone=\"877666\",empName=\"Pappu\")\n",
    "show(city=\"Kanpur\", empName=\"Pappu\")\n",
    "\n",
    "show(\"Alisha\",\"9898\",city=\"Delhi\")\n",
    "\n",
    "#show()\n",
    "#show(empName=\"sarthak\",'99998888') //error"
   ]
  },
  {
   "cell_type": "code",
   "execution_count": 31,
   "metadata": {},
   "outputs": [
    {
     "name": "stdout",
     "output_type": "stream",
     "text": [
      "type(arr)= <class 'tuple'> (5, 6, 7, 8)\n",
      "5\n",
      "6\n",
      "7\n",
      "8\n",
      "\n",
      "\n",
      "type(arr)= <class 'tuple'> (2, 3)\n",
      "2\n",
      "3\n",
      "\n",
      "\n",
      "type(arr)= <class 'tuple'> ()\n",
      "\n",
      "\n",
      "type(arr)= <class 'tuple'> (9,)\n",
      "9\n",
      "\n",
      "\n"
     ]
    }
   ],
   "source": [
    "def disp1(*arr):\n",
    "    print(\"type(arr)=\",type(arr),arr)\n",
    "    for num in arr:\n",
    "        print(num,)\n",
    "    print(\"\\n\")\n",
    "disp1(5,6,7,8)\n",
    "disp1(2,3)\n",
    "disp1()\n",
    "disp1(9)\n"
   ]
  },
  {
   "cell_type": "code",
   "execution_count": 32,
   "metadata": {},
   "outputs": [
    {
     "name": "stdout",
     "output_type": "stream",
     "text": [
      "<class 'dict'> {'a': 'android', 'b': 'Python', 'c': 'Java'}\n",
      "a = android\n",
      "b = Python\n",
      "c = Java\n",
      "<class 'dict'> {}\n"
     ]
    }
   ],
   "source": [
    "def disp(**arr):\n",
    "    print(type(arr),arr)\n",
    "    for k in arr.keys():\n",
    "        print(k,\"=\",arr[k])\n",
    "\n",
    "disp(a=\"android\",b='Python',c='Java')\n",
    "disp()"
   ]
  },
  {
   "cell_type": "code",
   "execution_count": 33,
   "metadata": {},
   "outputs": [
    {
     "name": "stdout",
     "output_type": "stream",
     "text": [
      "Addition result of 4 numbers= 14\n",
      "Addition result of 3 numbers= 13\n"
     ]
    }
   ],
   "source": [
    "def sum(*values):\n",
    "    sum=0\n",
    "    for num in values:\n",
    "        sum+=num\n",
    "    print(\"Addition result of %d numbers= %d\"%(len(values),sum))\n",
    "    return\n",
    "\n",
    "sum(2,3,4,5)\n",
    "sum(3,4,6)"
   ]
  },
  {
   "cell_type": "code",
   "execution_count": 34,
   "metadata": {},
   "outputs": [
    {
     "name": "stdout",
     "output_type": "stream",
     "text": [
      "value of a 1\n",
      "length of args: 0\n",
      "value of a 9\n",
      "length of args: 0\n",
      "value of a 1\n",
      "length of args: 3\n",
      "value of a 5\n",
      "length of args: 1\n"
     ]
    }
   ],
   "source": [
    "def display(a,*args):\n",
    "    print(\"value of a\",a)\n",
    "    print(\"length of args:\",len(args))\n",
    "\n",
    "display(1)\n",
    "display(9)\n",
    "display(1,2,3,4)\n",
    "display(5,6)"
   ]
  },
  {
   "cell_type": "code",
   "execution_count": 36,
   "metadata": {},
   "outputs": [
    {
     "name": "stdout",
     "output_type": "stream",
     "text": [
      "value of a: A\n",
      "B\n",
      "C\n",
      "D\n",
      "\n",
      "\n",
      "\n",
      "name = sarthak\n",
      "phone = 9998887776\n",
      "city = lucknow\n",
      "\n",
      "city : lucknow\n",
      "name : sarthak\n",
      "phone : 9998887776\n"
     ]
    }
   ],
   "source": [
    "def message(a,*args,**pairs):\n",
    "    print(\"value of a:\",a)\n",
    "    for num in args:\n",
    "        print(num,)\n",
    "    print(\"\\n\\n\")\n",
    "\n",
    "    for k in pairs:\n",
    "        print(k,\"=\",pairs[k])\n",
    "    print()\n",
    "\n",
    "    mykeys = sorted(pairs.keys())\n",
    "    for k in mykeys:\n",
    "        print(k,\":\",pairs[k] )\n",
    "\n",
    "    return\n",
    "\n",
    "message(\"A\",\"B\",\"C\",\"D\",name=\"sarthak\",phone=\"9998887776\",city=\"lucknow\")"
   ]
  },
  {
   "cell_type": "code",
   "execution_count": 37,
   "metadata": {},
   "outputs": [
    {
     "name": "stdout",
     "output_type": "stream",
     "text": [
      "No. of element in arr= 5\n",
      "Data type of arr <class 'tuple'>\n",
      "(1, 2, 3, 4, 5)\n",
      "\n",
      "\n",
      "No. of element in arr= 1\n",
      "Data type of arr <class 'tuple'>\n",
      "([1, 2, 3, 4, 5],)\n",
      "\n",
      "No. of element in arr= 5\n",
      "Data type of arr <class 'tuple'>\n",
      "(1, 2, 3, 4, 5)\n"
     ]
    }
   ],
   "source": [
    "def show(*arr):\n",
    "    print(\"No. of element in arr=\",len(arr))\n",
    "    print(\"Data type of arr\",type(arr))\n",
    "    print(arr)\n",
    "\n",
    "show(1,2,3,4,5)\n",
    "print(\"\\n\")\n",
    "\n",
    "list1 = [1,2,3,4,5]\n",
    "show( list1 )\n",
    "print()\n",
    "show(*list1)"
   ]
  },
  {
   "cell_type": "code",
   "execution_count": 38,
   "metadata": {},
   "outputs": [
    {
     "name": "stdout",
     "output_type": "stream",
     "text": [
      "No. of elements in arr= 5\n",
      "Data type of arr= <class 'tuple'>\n",
      "(1, 2, 3, 4, 5)\n",
      "\n",
      "\n",
      "No. of elements in arr= 1\n",
      "Data type of arr= <class 'tuple'>\n",
      "([1, 2, 3, 4, 5],)\n",
      "\n",
      "No. of elements in arr= 5\n",
      "Data type of arr= <class 'tuple'>\n",
      "(1, 2, 3, 4, 5)\n",
      "\n",
      "No. of elements in arr= 1\n",
      "Data type of arr= <class 'tuple'>\n",
      "((1, 2, 3, 4, 5),)\n",
      "No. of elements in arr= 5\n",
      "Data type of arr= <class 'tuple'>\n",
      "(1, 2, 3, 4, 5)\n"
     ]
    }
   ],
   "source": [
    "def show(*arr):\n",
    "    print(\"No. of elements in arr=\",len(arr))\n",
    "    print(\"Data type of arr=\",type(arr))\n",
    "    print(arr)\n",
    "show(1,2,3,4,5)\n",
    "print(\"\\n\")\n",
    "list1 = [1,2,3,4,5]\n",
    "show(list1)\n",
    "\n",
    "print()\n",
    "show(*list1)\n",
    "\n",
    "print()\n",
    "tuple1=(1,2,3,4,5)\n",
    "show(tuple1)\n",
    "show(*tuple1)"
   ]
  },
  {
   "cell_type": "code",
   "execution_count": 39,
   "metadata": {},
   "outputs": [
    {
     "name": "stdout",
     "output_type": "stream",
     "text": [
      "NAME= INDIA\n",
      "PHONE= 1111\n",
      "CITY= Noida\n",
      "NAME= {'name': 'INDIA', 'phone': '1111', 'city': 'Noida'}\n",
      "PHONE= P\n",
      "CITY= C\n",
      "NAME= INDIA\n",
      "PHONE= 1111\n",
      "CITY= Noida\n"
     ]
    }
   ],
   "source": [
    "def show(name=\"N\",phone=\"P\",city=\"C\"):\n",
    "    print(\"NAME=\",name)\n",
    "    print(\"PHONE=\",phone)\n",
    "    print(\"CITY=\",city)\n",
    "show(name='INDIA',phone='1111',city='Noida')\n",
    "dict1 = {'name':'INDIA','phone':'1111','city':'Noida'}\n",
    "show(dict1)\n",
    "show(**dict1)"
   ]
  },
  {
   "cell_type": "code",
   "execution_count": 40,
   "metadata": {},
   "outputs": [
    {
     "name": "stdout",
     "output_type": "stream",
     "text": [
      "range(3, 6)\n",
      "3 4 5 \n",
      "\n",
      "3 4 5 \n",
      "\n"
     ]
    }
   ],
   "source": [
    "print(range(3,6))\n",
    "args = [3,6]\n",
    "for num in range(args[0],args[1]):\n",
    "    print(num,end=\" \")\n",
    "print(\"\\n\")\n",
    "\n",
    "for num in range(*args):\n",
    "    print(num,end=\" \")\n",
    "print(\"\\n\")"
   ]
  },
  {
   "cell_type": "code",
   "execution_count": 41,
   "metadata": {},
   "outputs": [
    {
     "name": "stdout",
     "output_type": "stream",
     "text": [
      "[]\n",
      "[]\n",
      "[1, 2, 3, 4, 5, 6, 7, 8, 9, 10]\n",
      "range(1, 11)\n",
      "['I', 'N', 'D', 'I', 'A']\n",
      "dictionary = {'A': 'JAVA', 'B': 'J2EE', 'C': 'ANDROID', 'D': 'Python', 'E': 'Hadoop', 'Key': 'Value'}\n",
      "{'A': 'JAVA', 'B': 'INDIA', 'C': 'ANDROID', 'D': 'Python', 'E': 'Hadoop', 'Key': 'Value', 'F': 'JAPAN'}\n",
      "d['B']= INDIA\n",
      "len(d)= 7\n",
      "'A' in d= True\n",
      "a in d = False\n",
      "d.keys()= dict_keys(['A', 'B', 'C', 'D', 'E', 'Key', 'F'])\n",
      "sorted(d.keys())= ['A', 'B', 'C', 'D', 'E', 'F', 'Key']\n",
      "d.values()= dict_values(['JAVA', 'INDIA', 'ANDROID', 'Python', 'Hadoop', 'Value', 'JAPAN'])\n",
      "d.items() dict_items([('A', 'JAVA'), ('B', 'INDIA'), ('C', 'ANDROID'), ('D', 'Python'), ('E', 'Hadoop'), ('Key', 'Value'), ('F', 'JAPAN')])\n",
      "A JAVA\n",
      "B INDIA\n",
      "C ANDROID\n",
      "D Python\n",
      "E Hadoop\n",
      "F JAPAN\n",
      "Key Value\n",
      "A = JAVA\n",
      "B = INDIA\n",
      "C = ANDROID\n",
      "D = Python\n",
      "E = Hadoop\n",
      "Key = Value\n",
      "F = JAPAN\n",
      "After deletion of 'E'  {'A': 'JAVA', 'B': 'INDIA', 'C': 'ANDROID', 'D': 'Python', 'Key': 'Value', 'F': 'JAPAN'}\n",
      "d['B'] = INDIA\n",
      "len(d) = 6\n",
      "'A' in d=  True\n",
      "'a' in d=  False\n",
      "d.keys()=  dict_keys(['A', 'B', 'C', 'D', 'Key', 'F'])\n",
      "sorted(d.keys()) =  ['A', 'B', 'C', 'D', 'F', 'Key']\n",
      "d.values() =  dict_values(['JAVA', 'INDIA', 'ANDROID', 'Python', 'Value', 'JAPAN'])\n",
      "d.items() =  dict_items([('A', 'JAVA'), ('B', 'INDIA'), ('C', 'ANDROID'), ('D', 'Python'), ('Key', 'Value'), ('F', 'JAPAN')])\n",
      "A JAVA\n",
      "B INDIA\n",
      "C ANDROID\n",
      "D Python\n",
      "F JAPAN\n",
      "Key Value\n",
      "A = JAVA\n",
      "B = INDIA\n",
      "C = ANDROID\n",
      "D = Python\n",
      "Key = Value\n",
      "F = JAPAN\n",
      "d.get('Z')= None\n"
     ]
    }
   ],
   "source": [
    "mylist = list()\n",
    "print(mylist)\n",
    "\n",
    "mylist=[]\n",
    "print(mylist)\n",
    "\n",
    "mylist=list(range(1,11))\n",
    "print(mylist)\n",
    "\n",
    "mylist=range(1,11)\n",
    "print(mylist)\n",
    "\n",
    "text=\"INDIA\"\n",
    "mylist=list(text)\n",
    "print(mylist)\n",
    "\n",
    "d = {'A':'JAVA','B':'J2EE','C':'ANDROID','D':'Python','E':'Hadoop','Key':'Value'}\n",
    "print(\"dictionary =\",d)\n",
    "d['B']='INDIA'\n",
    "d['F']='JAPAN'\n",
    "print(d)\n",
    "\n",
    "print(\"d['B']=\",d['B'])\n",
    "print(\"len(d)=\",len(d))\n",
    "print(\"'A' in d=\", 'A'in d)\n",
    "print(\"a in d =\",'a'in d)\n",
    "\n",
    "print(\"d.keys()=\",d.keys())\n",
    "print(\"sorted(d.keys())=\",sorted(d.keys()))\n",
    "print(\"d.values()=\",d.values())\n",
    "print(\"d.items()\",d.items())\n",
    "\n",
    "keyList = d.keys()\n",
    "for k in sorted(keyList):\n",
    "    print(k,d[k])\n",
    "for key, value in d.items():\n",
    "    print(key,\"=\",value)\n",
    "\n",
    "del d['E']\n",
    "print(\"After deletion of 'E' \", d)\n",
    "print(\"d['B'] =\", d['B'])\n",
    "\n",
    "print(\"len(d) =\", len(d))\n",
    "\n",
    "print(\"'A' in d= \", 'A' in d)\n",
    "print(\"'a' in d= \", 'a' in d)\n",
    "\n",
    "print(\"d.keys()= \", d.keys())\n",
    "print(\"sorted(d.keys()) = \", sorted(d.keys()))\n",
    "print(\"d.values() = \", d.values())\n",
    "print(\"d.items() = \", d.items())\n",
    "\n",
    "\n",
    "keylist=d.keys()\n",
    "for k in sorted(keylist) :\n",
    "    print(k, d[k])\n",
    "\n",
    "\n",
    "for key, value in d.items():\n",
    "    print(key, \"=\", value)\n",
    "#print(\"d['z'] = \", ,d[Z]\n",
    "\n",
    "print(\"d.get('Z')=\",d.get('Z'))"
   ]
  },
  {
   "cell_type": "code",
   "execution_count": 42,
   "metadata": {},
   "outputs": [
    {
     "name": "stdout",
     "output_type": "stream",
     "text": [
      "itemgetter(2)= 13\n",
      "itemgetter(2)= J2EE\n"
     ]
    }
   ],
   "source": [
    "from operator import itemgetter\n",
    "print (\"itemgetter(2)=\",itemgetter(2)(range(11,21)))\n",
    "tu = ('Python','Java','J2EE','Android','Hadoop')\n",
    "print(\"itemgetter(2)=\",itemgetter(2)(tu))"
   ]
  },
  {
   "cell_type": "code",
   "execution_count": 43,
   "metadata": {},
   "outputs": [
    {
     "name": "stdout",
     "output_type": "stream",
     "text": [
      "[('CPU', 800), ('Mouse', 400), ('Monitor', 400), ('Keyboard', 300), ('UPS', 200)]\n",
      "[('CPU', 800), ('Keyboard', 300), ('Monitor', 400), ('Mouse', 400), ('UPS', 200)]\n",
      "[('UPS', 200), ('Keyboard', 300), ('Monitor', 400), ('Mouse', 400), ('CPU', 800)]\n",
      "sarthak srivastava\n",
      "ABHINAV SINGH\n"
     ]
    }
   ],
   "source": [
    "from operator import itemgetter\n",
    "products = [('Mouse',400),('Keyboard',300),('Monitor',400),('CPU',800),('UPS',200)]\n",
    "print(sorted(products,key=itemgetter(1),reverse = True))\n",
    "print(sorted(products,key=itemgetter(0)))\n",
    "print(sorted(products,key=itemgetter(1,0)))\n",
    "\n",
    "s1 = \"   sarthak srivastava   \"\n",
    "print(s1.strip(\" \"))\n",
    "\n",
    "\n",
    "s2= \"abhinav singh\"\n",
    "print(s2.strip(\" \").upper())\n",
    "#for changin entire wird to upper case letters"
   ]
  },
  {
   "cell_type": "code",
   "execution_count": 44,
   "metadata": {},
   "outputs": [],
   "source": [
    "def printName(first, last, onlyLast=False):\n",
    "    if onlyLast:\n",
    "        print(last)\n",
    "    else:\n",
    "        print(first, last)\n",
    "#printName('Gonsalves', first='Anthony')"
   ]
  },
  {
   "cell_type": "code",
   "execution_count": 45,
   "metadata": {},
   "outputs": [
    {
     "name": "stdout",
     "output_type": "stream",
     "text": [
      "50 50\n"
     ]
    }
   ],
   "source": [
    "FACTOR = 10\n",
    "def f(r):\n",
    "  return FACTOR * r\n",
    "def update_FACTOR():\n",
    "  FACTOR = 16\n",
    "x =f(5)\n",
    "update_FACTOR()\n",
    "y = f(5)\n",
    "print (x, y)"
   ]
  }
 ],
 "metadata": {
  "kernelspec": {
   "display_name": "Python 3",
   "language": "python",
   "name": "python3"
  },
  "language_info": {
   "codemirror_mode": {
    "name": "ipython",
    "version": 3
   },
   "file_extension": ".py",
   "mimetype": "text/x-python",
   "name": "python",
   "nbconvert_exporter": "python",
   "pygments_lexer": "ipython3",
   "version": "3.6.5"
  }
 },
 "nbformat": 4,
 "nbformat_minor": 2
}
